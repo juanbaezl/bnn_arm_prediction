{
 "cells": [
  {
   "cell_type": "code",
   "execution_count": 1,
   "metadata": {},
   "outputs": [],
   "source": [
    "import torch\n",
    "from torchvision import datasets, transforms\n",
    "from torch.utils.data import Subset, DataLoader\n",
    "import psutil\n",
    "import matplotlib.pyplot as plt\n",
    "import matplotlib.gridspec as gridspec\n",
    "import time\n",
    "from statistics import mean\n",
    "import subprocess\n",
    "import threading"
   ]
  },
  {
   "cell_type": "code",
   "execution_count": 2,
   "metadata": {},
   "outputs": [
    {
     "data": {
      "text/plain": [
       "RecursiveScriptModule(\n",
       "  original_name=TraditionalNet\n",
       "  (activation): RecursiveScriptModule(original_name=ReLU)\n",
       "  (features): RecursiveScriptModule(\n",
       "    original_name=Sequential\n",
       "    (0): RecursiveScriptModule(original_name=Conv2d)\n",
       "    (1): RecursiveScriptModule(original_name=ReLU)\n",
       "    (2): RecursiveScriptModule(original_name=BatchNorm2d)\n",
       "    (3): RecursiveScriptModule(original_name=Conv2d)\n",
       "    (4): RecursiveScriptModule(original_name=MaxPool2d)\n",
       "    (5): RecursiveScriptModule(original_name=ReLU)\n",
       "    (6): RecursiveScriptModule(original_name=BatchNorm2d)\n",
       "    (7): RecursiveScriptModule(original_name=Conv2d)\n",
       "    (8): RecursiveScriptModule(original_name=ReLU)\n",
       "    (9): RecursiveScriptModule(original_name=BatchNorm2d)\n",
       "    (10): RecursiveScriptModule(original_name=Conv2d)\n",
       "    (11): RecursiveScriptModule(original_name=MaxPool2d)\n",
       "    (12): RecursiveScriptModule(original_name=ReLU)\n",
       "    (13): RecursiveScriptModule(original_name=BatchNorm2d)\n",
       "    (14): RecursiveScriptModule(original_name=Conv2d)\n",
       "    (15): RecursiveScriptModule(original_name=ReLU)\n",
       "    (16): RecursiveScriptModule(original_name=BatchNorm2d)\n",
       "    (17): RecursiveScriptModule(original_name=Conv2d)\n",
       "    (18): RecursiveScriptModule(original_name=MaxPool2d)\n",
       "    (19): RecursiveScriptModule(original_name=ReLU)\n",
       "    (20): RecursiveScriptModule(original_name=BatchNorm2d)\n",
       "  )\n",
       "  (classifier): RecursiveScriptModule(\n",
       "    original_name=Sequential\n",
       "    (0): RecursiveScriptModule(original_name=Linear)\n",
       "    (1): RecursiveScriptModule(original_name=BatchNorm1d)\n",
       "    (2): RecursiveScriptModule(original_name=ReLU)\n",
       "    (3): RecursiveScriptModule(original_name=Dropout)\n",
       "    (4): RecursiveScriptModule(original_name=Linear)\n",
       "    (5): RecursiveScriptModule(original_name=BatchNorm1d)\n",
       "    (6): RecursiveScriptModule(original_name=ReLU)\n",
       "    (7): RecursiveScriptModule(original_name=Dropout)\n",
       "    (8): RecursiveScriptModule(original_name=Linear)\n",
       "    (9): RecursiveScriptModule(original_name=LogSoftmax)\n",
       "  )\n",
       ")"
      ]
     },
     "execution_count": 2,
     "metadata": {},
     "output_type": "execute_result"
    }
   ],
   "source": [
    "# Cargar el modelo TorchScript\n",
    "model = torch.jit.load(\"model.pt\", map_location=torch.device('cpu'))\n",
    "model.eval()"
   ]
  },
  {
   "cell_type": "code",
   "execution_count": 3,
   "metadata": {},
   "outputs": [
    {
     "name": "stderr",
     "output_type": "stream",
     "text": [
      "100.0%\n"
     ]
    }
   ],
   "source": [
    "# Definir las transformaciones (deben coincidir con las usadas en entrenamiento)\n",
    "transform = transforms.Compose([\n",
    "    transforms.ToTensor(),\n",
    "    transforms.Normalize((0.5, 0.5, 0.5), (0.5, 0.5, 0.5))\n",
    "])\n",
    "\n",
    "# Cargar el conjunto de test de CIFAR10\n",
    "test_dataset = datasets.CIFAR10(root='./data', train=False, download=True, transform=transform)\n",
    "\n",
    "# Crear un subconjunto con sólo 10 imágenes (por ejemplo, las primeras 10)\n",
    "subset_indices = list(range(10))\n",
    "test_subset = Subset(test_dataset, subset_indices)\n",
    "\n",
    "# Crear un DataLoader para el subconjunto\n",
    "test_loader = DataLoader(test_subset, batch_size=1, shuffle=False)"
   ]
  },
  {
   "cell_type": "code",
   "execution_count": 4,
   "metadata": {},
   "outputs": [],
   "source": [
    "ram_usage, cpu_usage = [], []\n",
    "flg_monitoring = True\n",
    "\n",
    "def clean_usages():\n",
    "    global ram_usage, cpu_usage\n",
    "    ram_usage = []\n",
    "    cpu_usage = []\n",
    "\n",
    "def monitorear_recursos(interval=1):\n",
    "  global flg_monitoring\n",
    "  global ram_usage, cpu_usage\n",
    "  clean_usages()\n",
    "  flg_monitoring = True\n",
    "  while flg_monitoring:\n",
    "    # Información de GPU\n",
    "    #gpus = GPUtil.getGPUs()\n",
    "    #gpu_info = []\n",
    "    #for gpu in gpus:\n",
    "    #    gpu_usage.append(gpu.load * 100)\n",
    "    #    gpu_ram_usage.append(gpu.memoryUsed)\n",
    "    #power_usage.append(get_gpu_power())\n",
    "    # Información de CPU y RAM\n",
    "    cpu_usage_now = psutil.cpu_percent(interval=0.1)\n",
    "    cpu_usage.append(cpu_usage_now)\n",
    "    ram_info = psutil.virtual_memory()\n",
    "    ram_usage.append(ram_info.used)\n",
    "    # power cpu\n",
    "    # Pausar entre iteraciones\n",
    "    time.sleep(interval)\n",
    "\n",
    "\n",
    "def plot_usages(path):\n",
    "    global ram_usage, cpu_usage\n",
    "    print(f\"max cpu: {max(cpu_usage)}, avg cpu: {mean(cpu_usage)}\")\n",
    "    print(f\"max ram: {max(ram_usage)}, avg ram: {mean(ram_usage)}\")\n",
    "    fig = plt.figure(figsize=(20, 16))\n",
    "    gs = gridspec.GridSpec(3, 2, height_ratios=[1, 1, 0.5])  # Tres filas, dos columnas\n",
    "\n",
    "    # Primeras cuatro gráficas en una cuadrícula 2x2\n",
    "    ax1 = plt.subplot(gs[0, 0])\n",
    "    ax2 = plt.subplot(gs[0, 1])\n",
    "\n",
    "    # Graficar cada serie de datos\n",
    "    ax1.plot(cpu_usage)\n",
    "    ax1.set_title('Uso de CPU')\n",
    "    ax1.set_xlabel('Tiempo (segundos)')\n",
    "    ax1.set_ylabel('Uso de CPU (%)')\n",
    "\n",
    "    ax2.plot(ram_usage)\n",
    "    ax2.set_title('Uso de RAM')\n",
    "    ax2.set_xlabel('Tiempo (segundos)')\n",
    "    ax2.set_ylabel('Uso de RAM (bytes)')\n",
    "\n",
    "    plt.tight_layout()  # Ajusta los espacios automáticamente\n",
    "    plt.show()\n",
    "\n",
    "    # save figure in path\n",
    "    plt.savefig(path)\n",
    "    all_values = {\n",
    "        \"cpu_usage\": cpu_usage,\n",
    "        \"avg_cpu_usage\": mean(cpu_usage),\n",
    "        \"max_cpu_usage\": max(cpu_usage),\n",
    "        \"ram_usage\": ram_usage,\n",
    "        \"avg_ram_usage\": mean(ram_usage),\n",
    "        \"max_ram_usage\": max(ram_usage),\n",
    "    }\n",
    "    plt.show()\n",
    "    return all_values"
   ]
  },
  {
   "cell_type": "code",
   "execution_count": 5,
   "metadata": {},
   "outputs": [],
   "source": [
    "def inference():\n",
    "    print(\"Iniciando inferencia\")\n",
    "    # Realizar inferencias sobre las 10 imágenes\n",
    "    for i, (inputs, labels) in enumerate(test_loader):\n",
    "        with torch.no_grad():\n",
    "            outputs = model(inputs)\n",
    "            predicted_class = outputs.argmax(dim=1).item()\n",
    "        print(f\"Imagen {i+1}: Predicción: {predicted_class}, Etiqueta real: {labels.item()}\")\n",
    "    print(\"Inferencia finalizada\")"
   ]
  },
  {
   "cell_type": "code",
   "execution_count": 6,
   "metadata": {},
   "outputs": [
    {
     "name": "stdout",
     "output_type": "stream",
     "text": [
      "Iniciando inferencia\n",
      "Imagen 1: Predicción: 3, Etiqueta real: 3\n",
      "Imagen 2: Predicción: 8, Etiqueta real: 8\n",
      "Imagen 3: Predicción: 8, Etiqueta real: 8\n",
      "Imagen 4: Predicción: 0, Etiqueta real: 0\n",
      "Imagen 5: Predicción: 6, Etiqueta real: 6\n",
      "Imagen 6: Predicción: 6, Etiqueta real: 6\n",
      "Imagen 7: Predicción: 1, Etiqueta real: 1\n",
      "Imagen 8: Predicción: 6, Etiqueta real: 6\n",
      "Imagen 9: Predicción: 3, Etiqueta real: 3\n",
      "Imagen 10: Predicción: 1, Etiqueta real: 1\n",
      "Inferencia finalizada\n",
      "Tiempo de inferencia: 0.26776599884033203\n",
      "max cpu: 55.0, avg cpu: 55.0\n",
      "max ram: 3966025728, avg ram: 3966025728\n"
     ]
    },
    {
     "data": {
      "image/png": "[encoded data removed]",
      "text/plain": [
       "<Figure size 2000x1600 with 2 Axes>"
      ]
     },
     "metadata": {},
     "output_type": "display_data"
    },
    {
     "data": {
      "text/plain": [
       "<Figure size 640x480 with 0 Axes>"
      ]
     },
     "metadata": {},
     "output_type": "display_data"
    },
    {
     "data": {
      "text/plain": [
       "{'cpu_usage': [55.0],\n",
       " 'avg_cpu_usage': 55.0,\n",
       " 'max_cpu_usage': 55.0,\n",
       " 'ram_usage': [3966025728],\n",
       " 'avg_ram_usage': 3966025728,\n",
       " 'max_ram_usage': 3966025728}"
      ]
     },
     "execution_count": 6,
     "metadata": {},
     "output_type": "execute_result"
    }
   ],
   "source": [
    "monitor_thread = threading.Thread(target=monitorear_recursos)\n",
    "inferece_thread = threading.Thread(target=inference)\n",
    "monitor_thread.start()\n",
    "start = time.time()\n",
    "inferece_thread.start()\n",
    "inferece_thread.join()\n",
    "end = time.time()\n",
    "print(f\"Tiempo de inferencia: {end - start}\")\n",
    "flg_monitoring = False\n",
    "plot_usages(\"./usages\")"
   ]
  }
 ],
 "metadata": {
  "kernelspec": {
   "display_name": "cnn",
   "language": "python",
   "name": "cnn"
  },
  "language_info": {
   "codemirror_mode": {
    "name": "ipython",
    "version": 3
   },
   "file_extension": ".py",
   "mimetype": "text/x-python",
   "name": "python",
   "nbconvert_exporter": "python",
   "pygments_lexer": "ipython3",
   "version": "3.11.2"
  }
 },
 "nbformat": 4,
 "nbformat_minor": 2
}
